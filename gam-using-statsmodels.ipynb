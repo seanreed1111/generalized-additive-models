{
 "cells": [
  {
   "cell_type": "markdown",
   "id": "392368cc",
   "metadata": {},
   "source": [
    "GAMs using statsmodels"
   ]
  },
  {
   "cell_type": "code",
   "execution_count": 1,
   "id": "50e338b9",
   "metadata": {},
   "outputs": [],
   "source": [
    "import statsmodels.api as sm\n",
    "import statsmodels.formula.api as smf\n",
    "from statsmodels.gam.api import GLMGam, BSplines\n",
    "from statsmodels.gam.tests.test_penalized import df_autos\n",
    "import seaborn as sns\n",
    "import matplotlib.pyplot as plt\n",
    "import numpy as np"
   ]
  },
  {
   "cell_type": "markdown",
   "id": "1731cb36",
   "metadata": {},
   "source": [
    "The following illustrates a Gaussian and a Poisson regression where categorical variables are treated as linear terms and the effect of two explanatory variables is captured by penalized B-splines. \n",
    "\n",
    "The data is from the automobile dataset https://archive.ics.uci.edu/ml/datasets/automobile \n",
    "\n",
    "We can load a dataframe with selected columns from the unit test module."
   ]
  },
  {
   "cell_type": "code",
   "execution_count": 4,
   "id": "ee727ec3",
   "metadata": {},
   "outputs": [
    {
     "name": "stdout",
     "output_type": "stream",
     "text": [
      "<class 'pandas.core.frame.DataFrame'>\n",
      "Int64Index: 203 entries, 0 to 204\n",
      "Data columns (total 5 columns):\n",
      " #   Column    Non-Null Count  Dtype  \n",
      "---  ------    --------------  -----  \n",
      " 0   city_mpg  203 non-null    int64  \n",
      " 1   fuel      203 non-null    object \n",
      " 2   drive     203 non-null    object \n",
      " 3   weight    203 non-null    int64  \n",
      " 4   hp        203 non-null    float64\n",
      "dtypes: float64(1), int64(2), object(2)\n",
      "memory usage: 9.5+ KB\n"
     ]
    }
   ],
   "source": [
    "df_autos.info()"
   ]
  },
  {
   "cell_type": "code",
   "execution_count": 5,
   "id": "93e49e30",
   "metadata": {},
   "outputs": [
    {
     "data": {
      "text/plain": [
       "fwd    118\n",
       "rwd     76\n",
       "4wd      9\n",
       "Name: drive, dtype: int64"
      ]
     },
     "execution_count": 5,
     "metadata": {},
     "output_type": "execute_result"
    }
   ],
   "source": [
    "df_autos['drive'].value_counts()"
   ]
  },
  {
   "cell_type": "code",
   "execution_count": 6,
   "id": "5bb19726",
   "metadata": {},
   "outputs": [
    {
     "data": {
      "text/plain": [
       "gas       183\n",
       "diesel     20\n",
       "Name: fuel, dtype: int64"
      ]
     },
     "execution_count": 6,
     "metadata": {},
     "output_type": "execute_result"
    }
   ],
   "source": [
    "df_autos['fuel'].value_counts()"
   ]
  },
  {
   "cell_type": "code",
   "execution_count": null,
   "id": "03c2a21c",
   "metadata": {},
   "outputs": [],
   "source": [
    "df_autos.describe()"
   ]
  },
  {
   "cell_type": "code",
   "execution_count": null,
   "id": "3882755b",
   "metadata": {},
   "outputs": [],
   "source": [
    "sns.boxplot(y='weight', data=df_autos)"
   ]
  },
  {
   "cell_type": "code",
   "execution_count": null,
   "id": "78215f01",
   "metadata": {},
   "outputs": [],
   "source": [
    "sns.boxenplot(y='weight', data=df_autos)"
   ]
  },
  {
   "cell_type": "code",
   "execution_count": null,
   "id": "bfae1ddc",
   "metadata": {},
   "outputs": [],
   "source": [
    "sns.boxplot(y='hp', data=df_autos)"
   ]
  },
  {
   "cell_type": "code",
   "execution_count": null,
   "id": "8f78a652",
   "metadata": {},
   "outputs": [],
   "source": [
    "sns.boxenplot(y='hp', data=df_autos)"
   ]
  },
  {
   "cell_type": "code",
   "execution_count": 2,
   "id": "7bef29ce",
   "metadata": {},
   "outputs": [],
   "source": [
    "# create spline basis for weight and hp\n",
    "x_spline = df_autos[['weight', 'hp']]\n",
    "bs = BSplines(x_spline, df=[12, 10], degree=[3, 3])"
   ]
  },
  {
   "cell_type": "code",
   "execution_count": 7,
   "id": "b7fac4ff",
   "metadata": {},
   "outputs": [
    {
     "name": "stdout",
     "output_type": "stream",
     "text": [
      "                 Generalized Linear Model Regression Results                  \n",
      "==============================================================================\n",
      "Dep. Variable:               city_mpg   No. Observations:                  203\n",
      "Model:                         GLMGam   Df Residuals:                   189.13\n",
      "Model Family:                Gaussian   Df Model:                        12.87\n",
      "Link Function:               identity   Scale:                          4.8825\n",
      "Method:                         PIRLS   Log-Likelihood:                -441.81\n",
      "Date:                Mon, 09 Aug 2021   Deviance:                       923.45\n",
      "Time:                        00:35:28   Pearson chi2:                     923.\n",
      "No. Iterations:                     3                                         \n",
      "Covariance Type:            nonrobust                                         \n",
      "===================================================================================\n",
      "                      coef    std err          z      P>|z|      [0.025      0.975]\n",
      "-----------------------------------------------------------------------------------\n",
      "Intercept          51.9923      1.997     26.034      0.000      48.078      55.906\n",
      "C(fuel)[T.gas]     -5.8099      0.727     -7.989      0.000      -7.235      -4.385\n",
      "C(drive)[T.fwd]     1.3910      0.819      1.699      0.089      -0.213       2.995\n",
      "C(drive)[T.rwd]     1.0638      0.842      1.263      0.207      -0.587       2.715\n",
      "weight_s0          -3.5556      0.959     -3.707      0.000      -5.436      -1.676\n",
      "weight_s1          -9.0876      1.750     -5.193      0.000     -12.518      -5.658\n",
      "weight_s2         -13.0303      1.827     -7.132      0.000     -16.611      -9.450\n",
      "weight_s3         -14.2641      1.854     -7.695      0.000     -17.897     -10.631\n",
      "weight_s4         -15.1805      1.892     -8.024      0.000     -18.889     -11.472\n",
      "weight_s5         -15.9557      1.963     -8.128      0.000     -19.803     -12.108\n",
      "weight_s6         -16.6297      2.038     -8.161      0.000     -20.624     -12.636\n",
      "weight_s7         -16.9928      2.045     -8.308      0.000     -21.002     -12.984\n",
      "weight_s8         -19.3480      2.367     -8.174      0.000     -23.987     -14.709\n",
      "weight_s9         -20.7978      2.455     -8.472      0.000     -25.609     -15.986\n",
      "weight_s10        -20.8062      2.443     -8.517      0.000     -25.594     -16.018\n",
      "hp_s0              -1.4473      0.558     -2.592      0.010      -2.542      -0.353\n",
      "hp_s1              -3.4228      1.012     -3.381      0.001      -5.407      -1.438\n",
      "hp_s2              -5.9026      1.251     -4.717      0.000      -8.355      -3.450\n",
      "hp_s3              -7.2389      1.352     -5.354      0.000      -9.889      -4.589\n",
      "hp_s4              -9.1052      1.384     -6.581      0.000     -11.817      -6.393\n",
      "hp_s5              -9.9865      1.525     -6.547      0.000     -12.976      -6.997\n",
      "hp_s6             -13.3639      2.228     -5.998      0.000     -17.731      -8.997\n",
      "hp_s7             -13.8902      3.194     -4.349      0.000     -20.150      -7.630\n",
      "hp_s8             -11.9752      2.556     -4.685      0.000     -16.985      -6.965\n",
      "===================================================================================\n"
     ]
    }
   ],
   "source": [
    "formula1 = 'city_mpg ~ C(fuel) + C(drive)'\n",
    "# penalization weight\n",
    "alpha_1 = np.array([21833888.8, 6460.38479])\n",
    "\n",
    "gam_bs_1 = GLMGam.from_formula(formula1, \n",
    "                             data=df_autos,\n",
    "                             smoother=bs, \n",
    "                             alpha=alpha_1)\n",
    "\n",
    "res_bs_1 = gam_bs_1.fit()\n",
    "\n",
    "print(res_bs_1.summary())"
   ]
  },
  {
   "cell_type": "code",
   "execution_count": 8,
   "id": "e719bd7a",
   "metadata": {},
   "outputs": [
    {
     "data": {
      "text/html": [
       "<table class=\"simpletable\">\n",
       "<caption>OLS Regression Results</caption>\n",
       "<tr>\n",
       "  <th>Dep. Variable:</th>        <td>city_mpg</td>     <th>  R-squared:         </th> <td>   0.788</td>\n",
       "</tr>\n",
       "<tr>\n",
       "  <th>Model:</th>                   <td>OLS</td>       <th>  Adj. R-squared:    </th> <td>   0.782</td>\n",
       "</tr>\n",
       "<tr>\n",
       "  <th>Method:</th>             <td>Least Squares</td>  <th>  F-statistic:       </th> <td>   146.0</td>\n",
       "</tr>\n",
       "<tr>\n",
       "  <th>Date:</th>             <td>Mon, 09 Aug 2021</td> <th>  Prob (F-statistic):</th> <td>2.90e-64</td>\n",
       "</tr>\n",
       "<tr>\n",
       "  <th>Time:</th>                 <td>00:35:42</td>     <th>  Log-Likelihood:    </th> <td> -512.50</td>\n",
       "</tr>\n",
       "<tr>\n",
       "  <th>No. Observations:</th>      <td>   203</td>      <th>  AIC:               </th> <td>   1037.</td>\n",
       "</tr>\n",
       "<tr>\n",
       "  <th>Df Residuals:</th>          <td>   197</td>      <th>  BIC:               </th> <td>   1057.</td>\n",
       "</tr>\n",
       "<tr>\n",
       "  <th>Df Model:</th>              <td>     5</td>      <th>                     </th>     <td> </td>   \n",
       "</tr>\n",
       "<tr>\n",
       "  <th>Covariance Type:</th>      <td>nonrobust</td>    <th>                     </th>     <td> </td>   \n",
       "</tr>\n",
       "</table>\n",
       "<table class=\"simpletable\">\n",
       "<tr>\n",
       "         <td></td>            <th>coef</th>     <th>std err</th>      <th>t</th>      <th>P>|t|</th>  <th>[0.025</th>    <th>0.975]</th>  \n",
       "</tr>\n",
       "<tr>\n",
       "  <th>Intercept</th>       <td>   54.3232</td> <td>    2.309</td> <td>   23.523</td> <td> 0.000</td> <td>   49.769</td> <td>   58.877</td>\n",
       "</tr>\n",
       "<tr>\n",
       "  <th>C(fuel)[T.gas]</th>  <td>   -7.4126</td> <td>    0.870</td> <td>   -8.522</td> <td> 0.000</td> <td>   -9.128</td> <td>   -5.697</td>\n",
       "</tr>\n",
       "<tr>\n",
       "  <th>C(drive)[T.fwd]</th> <td>    1.7066</td> <td>    1.092</td> <td>    1.562</td> <td> 0.120</td> <td>   -0.448</td> <td>    3.861</td>\n",
       "</tr>\n",
       "<tr>\n",
       "  <th>C(drive)[T.rwd]</th> <td>    1.1618</td> <td>    1.126</td> <td>    1.031</td> <td> 0.304</td> <td>   -1.060</td> <td>    3.383</td>\n",
       "</tr>\n",
       "<tr>\n",
       "  <th>weight</th>          <td>   -0.0074</td> <td>    0.001</td> <td>   -9.119</td> <td> 0.000</td> <td>   -0.009</td> <td>   -0.006</td>\n",
       "</tr>\n",
       "<tr>\n",
       "  <th>hp</th>              <td>   -0.0471</td> <td>    0.010</td> <td>   -4.833</td> <td> 0.000</td> <td>   -0.066</td> <td>   -0.028</td>\n",
       "</tr>\n",
       "</table>\n",
       "<table class=\"simpletable\">\n",
       "<tr>\n",
       "  <th>Omnibus:</th>       <td>60.405</td> <th>  Durbin-Watson:     </th> <td>   1.286</td>\n",
       "</tr>\n",
       "<tr>\n",
       "  <th>Prob(Omnibus):</th> <td> 0.000</td> <th>  Jarque-Bera (JB):  </th> <td> 241.199</td>\n",
       "</tr>\n",
       "<tr>\n",
       "  <th>Skew:</th>          <td> 1.114</td> <th>  Prob(JB):          </th> <td>4.21e-53</td>\n",
       "</tr>\n",
       "<tr>\n",
       "  <th>Kurtosis:</th>      <td> 7.853</td> <th>  Cond. No.          </th> <td>3.08e+04</td>\n",
       "</tr>\n",
       "</table><br/><br/>Notes:<br/>[1] Standard Errors assume that the covariance matrix of the errors is correctly specified.<br/>[2] The condition number is large, 3.08e+04. This might indicate that there are<br/>strong multicollinearity or other numerical problems."
      ],
      "text/plain": [
       "<class 'statsmodels.iolib.summary.Summary'>\n",
       "\"\"\"\n",
       "                            OLS Regression Results                            \n",
       "==============================================================================\n",
       "Dep. Variable:               city_mpg   R-squared:                       0.788\n",
       "Model:                            OLS   Adj. R-squared:                  0.782\n",
       "Method:                 Least Squares   F-statistic:                     146.0\n",
       "Date:                Mon, 09 Aug 2021   Prob (F-statistic):           2.90e-64\n",
       "Time:                        00:35:42   Log-Likelihood:                -512.50\n",
       "No. Observations:                 203   AIC:                             1037.\n",
       "Df Residuals:                     197   BIC:                             1057.\n",
       "Df Model:                           5                                         \n",
       "Covariance Type:            nonrobust                                         \n",
       "===================================================================================\n",
       "                      coef    std err          t      P>|t|      [0.025      0.975]\n",
       "-----------------------------------------------------------------------------------\n",
       "Intercept          54.3232      2.309     23.523      0.000      49.769      58.877\n",
       "C(fuel)[T.gas]     -7.4126      0.870     -8.522      0.000      -9.128      -5.697\n",
       "C(drive)[T.fwd]     1.7066      1.092      1.562      0.120      -0.448       3.861\n",
       "C(drive)[T.rwd]     1.1618      1.126      1.031      0.304      -1.060       3.383\n",
       "weight             -0.0074      0.001     -9.119      0.000      -0.009      -0.006\n",
       "hp                 -0.0471      0.010     -4.833      0.000      -0.066      -0.028\n",
       "==============================================================================\n",
       "Omnibus:                       60.405   Durbin-Watson:                   1.286\n",
       "Prob(Omnibus):                  0.000   Jarque-Bera (JB):              241.199\n",
       "Skew:                           1.114   Prob(JB):                     4.21e-53\n",
       "Kurtosis:                       7.853   Cond. No.                     3.08e+04\n",
       "==============================================================================\n",
       "\n",
       "Notes:\n",
       "[1] Standard Errors assume that the covariance matrix of the errors is correctly specified.\n",
       "[2] The condition number is large, 3.08e+04. This might indicate that there are\n",
       "strong multicollinearity or other numerical problems.\n",
       "\"\"\""
      ]
     },
     "execution_count": 8,
     "metadata": {},
     "output_type": "execute_result"
    }
   ],
   "source": [
    "OLS = smf.ols(formula='city_mpg ~ C(fuel) + C(drive) + weight + hp', data=df_autos).fit()\n",
    "OLS.summary()"
   ]
  },
  {
   "cell_type": "code",
   "execution_count": 9,
   "id": "ec2bc962",
   "metadata": {},
   "outputs": [
    {
     "data": {
      "text/html": [
       "<table class=\"simpletable\">\n",
       "<caption>OLS Regression Results</caption>\n",
       "<tr>\n",
       "  <th>Dep. Variable:</th>        <td>city_mpg</td>     <th>  R-squared:         </th> <td>   0.785</td>\n",
       "</tr>\n",
       "<tr>\n",
       "  <th>Model:</th>                   <td>OLS</td>       <th>  Adj. R-squared:    </th> <td>   0.781</td>\n",
       "</tr>\n",
       "<tr>\n",
       "  <th>Method:</th>             <td>Least Squares</td>  <th>  F-statistic:       </th> <td>   241.6</td>\n",
       "</tr>\n",
       "<tr>\n",
       "  <th>Date:</th>             <td>Mon, 09 Aug 2021</td> <th>  Prob (F-statistic):</th> <td>4.60e-66</td>\n",
       "</tr>\n",
       "<tr>\n",
       "  <th>Time:</th>                 <td>00:37:33</td>     <th>  Log-Likelihood:    </th> <td> -513.90</td>\n",
       "</tr>\n",
       "<tr>\n",
       "  <th>No. Observations:</th>      <td>   203</td>      <th>  AIC:               </th> <td>   1036.</td>\n",
       "</tr>\n",
       "<tr>\n",
       "  <th>Df Residuals:</th>          <td>   199</td>      <th>  BIC:               </th> <td>   1049.</td>\n",
       "</tr>\n",
       "<tr>\n",
       "  <th>Df Model:</th>              <td>     3</td>      <th>                     </th>     <td> </td>   \n",
       "</tr>\n",
       "<tr>\n",
       "  <th>Covariance Type:</th>      <td>nonrobust</td>    <th>                     </th>     <td> </td>   \n",
       "</tr>\n",
       "</table>\n",
       "<table class=\"simpletable\">\n",
       "<tr>\n",
       "         <td></td>           <th>coef</th>     <th>std err</th>      <th>t</th>      <th>P>|t|</th>  <th>[0.025</th>    <th>0.975]</th>  \n",
       "</tr>\n",
       "<tr>\n",
       "  <th>Intercept</th>      <td>   56.9187</td> <td>    1.687</td> <td>   33.737</td> <td> 0.000</td> <td>   53.592</td> <td>   60.246</td>\n",
       "</tr>\n",
       "<tr>\n",
       "  <th>C(fuel)[T.gas]</th> <td>   -7.5871</td> <td>    0.862</td> <td>   -8.806</td> <td> 0.000</td> <td>   -9.286</td> <td>   -5.888</td>\n",
       "</tr>\n",
       "<tr>\n",
       "  <th>weight</th>         <td>   -0.0078</td> <td>    0.001</td> <td>  -10.677</td> <td> 0.000</td> <td>   -0.009</td> <td>   -0.006</td>\n",
       "</tr>\n",
       "<tr>\n",
       "  <th>hp</th>             <td>   -0.0459</td> <td>    0.010</td> <td>   -4.790</td> <td> 0.000</td> <td>   -0.065</td> <td>   -0.027</td>\n",
       "</tr>\n",
       "</table>\n",
       "<table class=\"simpletable\">\n",
       "<tr>\n",
       "  <th>Omnibus:</th>       <td>57.160</td> <th>  Durbin-Watson:     </th> <td>   1.283</td>\n",
       "</tr>\n",
       "<tr>\n",
       "  <th>Prob(Omnibus):</th> <td> 0.000</td> <th>  Jarque-Bera (JB):  </th> <td> 229.938</td>\n",
       "</tr>\n",
       "<tr>\n",
       "  <th>Skew:</th>          <td> 1.043</td> <th>  Prob(JB):          </th> <td>1.17e-50</td>\n",
       "</tr>\n",
       "<tr>\n",
       "  <th>Kurtosis:</th>      <td> 7.779</td> <th>  Cond. No.          </th> <td>2.20e+04</td>\n",
       "</tr>\n",
       "</table><br/><br/>Notes:<br/>[1] Standard Errors assume that the covariance matrix of the errors is correctly specified.<br/>[2] The condition number is large, 2.2e+04. This might indicate that there are<br/>strong multicollinearity or other numerical problems."
      ],
      "text/plain": [
       "<class 'statsmodels.iolib.summary.Summary'>\n",
       "\"\"\"\n",
       "                            OLS Regression Results                            \n",
       "==============================================================================\n",
       "Dep. Variable:               city_mpg   R-squared:                       0.785\n",
       "Model:                            OLS   Adj. R-squared:                  0.781\n",
       "Method:                 Least Squares   F-statistic:                     241.6\n",
       "Date:                Mon, 09 Aug 2021   Prob (F-statistic):           4.60e-66\n",
       "Time:                        00:37:33   Log-Likelihood:                -513.90\n",
       "No. Observations:                 203   AIC:                             1036.\n",
       "Df Residuals:                     199   BIC:                             1049.\n",
       "Df Model:                           3                                         \n",
       "Covariance Type:            nonrobust                                         \n",
       "==================================================================================\n",
       "                     coef    std err          t      P>|t|      [0.025      0.975]\n",
       "----------------------------------------------------------------------------------\n",
       "Intercept         56.9187      1.687     33.737      0.000      53.592      60.246\n",
       "C(fuel)[T.gas]    -7.5871      0.862     -8.806      0.000      -9.286      -5.888\n",
       "weight            -0.0078      0.001    -10.677      0.000      -0.009      -0.006\n",
       "hp                -0.0459      0.010     -4.790      0.000      -0.065      -0.027\n",
       "==============================================================================\n",
       "Omnibus:                       57.160   Durbin-Watson:                   1.283\n",
       "Prob(Omnibus):                  0.000   Jarque-Bera (JB):              229.938\n",
       "Skew:                           1.043   Prob(JB):                     1.17e-50\n",
       "Kurtosis:                       7.779   Cond. No.                     2.20e+04\n",
       "==============================================================================\n",
       "\n",
       "Notes:\n",
       "[1] Standard Errors assume that the covariance matrix of the errors is correctly specified.\n",
       "[2] The condition number is large, 2.2e+04. This might indicate that there are\n",
       "strong multicollinearity or other numerical problems.\n",
       "\"\"\""
      ]
     },
     "execution_count": 9,
     "metadata": {},
     "output_type": "execute_result"
    }
   ],
   "source": [
    "OLS = smf.ols(formula='city_mpg ~ C(fuel) + weight + hp', data=df_autos).fit()\n",
    "OLS.summary()"
   ]
  },
  {
   "cell_type": "code",
   "execution_count": 11,
   "id": "8ea96200",
   "metadata": {},
   "outputs": [
    {
     "data": {
      "text/html": [
       "<table class=\"simpletable\">\n",
       "<caption>OLS Regression Results</caption>\n",
       "<tr>\n",
       "  <th>Dep. Variable:</th>        <td>city_mpg</td>     <th>  R-squared:         </th> <td>   0.575</td>\n",
       "</tr>\n",
       "<tr>\n",
       "  <th>Model:</th>                   <td>OLS</td>       <th>  Adj. R-squared:    </th> <td>   0.573</td>\n",
       "</tr>\n",
       "<tr>\n",
       "  <th>Method:</th>             <td>Least Squares</td>  <th>  F-statistic:       </th> <td>   271.7</td>\n",
       "</tr>\n",
       "<tr>\n",
       "  <th>Date:</th>             <td>Mon, 09 Aug 2021</td> <th>  Prob (F-statistic):</th> <td>3.50e-39</td>\n",
       "</tr>\n",
       "<tr>\n",
       "  <th>Time:</th>                 <td>00:38:22</td>     <th>  Log-Likelihood:    </th> <td> -582.92</td>\n",
       "</tr>\n",
       "<tr>\n",
       "  <th>No. Observations:</th>      <td>   203</td>      <th>  AIC:               </th> <td>   1170.</td>\n",
       "</tr>\n",
       "<tr>\n",
       "  <th>Df Residuals:</th>          <td>   201</td>      <th>  BIC:               </th> <td>   1176.</td>\n",
       "</tr>\n",
       "<tr>\n",
       "  <th>Df Model:</th>              <td>     1</td>      <th>                     </th>     <td> </td>   \n",
       "</tr>\n",
       "<tr>\n",
       "  <th>Covariance Type:</th>      <td>nonrobust</td>    <th>                     </th>     <td> </td>   \n",
       "</tr>\n",
       "</table>\n",
       "<table class=\"simpletable\">\n",
       "<tr>\n",
       "      <td></td>         <th>coef</th>     <th>std err</th>      <th>t</th>      <th>P>|t|</th>  <th>[0.025</th>    <th>0.975]</th>  \n",
       "</tr>\n",
       "<tr>\n",
       "  <th>Intercept</th> <td>   49.5768</td> <td>    1.507</td> <td>   32.901</td> <td> 0.000</td> <td>   46.606</td> <td>   52.548</td>\n",
       "</tr>\n",
       "<tr>\n",
       "  <th>weight</th>    <td>   -0.0095</td> <td>    0.001</td> <td>  -16.483</td> <td> 0.000</td> <td>   -0.011</td> <td>   -0.008</td>\n",
       "</tr>\n",
       "</table>\n",
       "<table class=\"simpletable\">\n",
       "<tr>\n",
       "  <th>Omnibus:</th>       <td>31.886</td> <th>  Durbin-Watson:     </th> <td>   1.451</td>\n",
       "</tr>\n",
       "<tr>\n",
       "  <th>Prob(Omnibus):</th> <td> 0.000</td> <th>  Jarque-Bera (JB):  </th> <td>  44.850</td>\n",
       "</tr>\n",
       "<tr>\n",
       "  <th>Skew:</th>          <td> 0.935</td> <th>  Prob(JB):          </th> <td>1.82e-10</td>\n",
       "</tr>\n",
       "<tr>\n",
       "  <th>Kurtosis:</th>      <td> 4.344</td> <th>  Cond. No.          </th> <td>1.30e+04</td>\n",
       "</tr>\n",
       "</table><br/><br/>Notes:<br/>[1] Standard Errors assume that the covariance matrix of the errors is correctly specified.<br/>[2] The condition number is large, 1.3e+04. This might indicate that there are<br/>strong multicollinearity or other numerical problems."
      ],
      "text/plain": [
       "<class 'statsmodels.iolib.summary.Summary'>\n",
       "\"\"\"\n",
       "                            OLS Regression Results                            \n",
       "==============================================================================\n",
       "Dep. Variable:               city_mpg   R-squared:                       0.575\n",
       "Model:                            OLS   Adj. R-squared:                  0.573\n",
       "Method:                 Least Squares   F-statistic:                     271.7\n",
       "Date:                Mon, 09 Aug 2021   Prob (F-statistic):           3.50e-39\n",
       "Time:                        00:38:22   Log-Likelihood:                -582.92\n",
       "No. Observations:                 203   AIC:                             1170.\n",
       "Df Residuals:                     201   BIC:                             1176.\n",
       "Df Model:                           1                                         \n",
       "Covariance Type:            nonrobust                                         \n",
       "==============================================================================\n",
       "                 coef    std err          t      P>|t|      [0.025      0.975]\n",
       "------------------------------------------------------------------------------\n",
       "Intercept     49.5768      1.507     32.901      0.000      46.606      52.548\n",
       "weight        -0.0095      0.001    -16.483      0.000      -0.011      -0.008\n",
       "==============================================================================\n",
       "Omnibus:                       31.886   Durbin-Watson:                   1.451\n",
       "Prob(Omnibus):                  0.000   Jarque-Bera (JB):               44.850\n",
       "Skew:                           0.935   Prob(JB):                     1.82e-10\n",
       "Kurtosis:                       4.344   Cond. No.                     1.30e+04\n",
       "==============================================================================\n",
       "\n",
       "Notes:\n",
       "[1] Standard Errors assume that the covariance matrix of the errors is correctly specified.\n",
       "[2] The condition number is large, 1.3e+04. This might indicate that there are\n",
       "strong multicollinearity or other numerical problems.\n",
       "\"\"\""
      ]
     },
     "execution_count": 11,
     "metadata": {},
     "output_type": "execute_result"
    }
   ],
   "source": [
    "OLS = smf.ols(formula='city_mpg ~ + weight', data=df_autos).fit()\n",
    "OLS.summary()"
   ]
  },
  {
   "cell_type": "code",
   "execution_count": null,
   "id": "5b51191d",
   "metadata": {},
   "outputs": [],
   "source": []
  },
  {
   "cell_type": "code",
   "execution_count": null,
   "id": "5c369744",
   "metadata": {},
   "outputs": [],
   "source": [
    "res_bs_1.plot_partial(0, cpr=True)"
   ]
  },
  {
   "cell_type": "code",
   "execution_count": null,
   "id": "f36cfd7b",
   "metadata": {},
   "outputs": [],
   "source": [
    "res_bs_1.plot_partial(1, cpr=True)"
   ]
  },
  {
   "cell_type": "code",
   "execution_count": null,
   "id": "b15fb916",
   "metadata": {},
   "outputs": [],
   "source": []
  },
  {
   "cell_type": "code",
   "execution_count": null,
   "id": "a69d616b",
   "metadata": {},
   "outputs": [],
   "source": []
  },
  {
   "cell_type": "code",
   "execution_count": null,
   "id": "0f762c1e",
   "metadata": {},
   "outputs": [],
   "source": []
  },
  {
   "cell_type": "markdown",
   "id": "85fd1961",
   "metadata": {},
   "source": [
    "Poisson Regression"
   ]
  },
  {
   "cell_type": "code",
   "execution_count": null,
   "id": "2f4caaa5",
   "metadata": {},
   "outputs": [],
   "source": [
    "alpha_2 = np.array([8283989284.5829611, 14628207.58927821])\n",
    "\n",
    "gam_bs_2 = GLMGam.from_formula('city_mpg ~ fuel + drive', \n",
    "                             data=df_autos,\n",
    "                             smoother=bs, \n",
    "                             alpha=alpha_2,\n",
    "                             family=sm.families.Poisson())\n",
    "res_bs_2 = gam_bs_2.fit()\n",
    "\n",
    "print(res_bs_2.summary())"
   ]
  },
  {
   "cell_type": "code",
   "execution_count": null,
   "id": "e861a024",
   "metadata": {},
   "outputs": [],
   "source": []
  },
  {
   "cell_type": "code",
   "execution_count": null,
   "id": "845b8a05",
   "metadata": {},
   "outputs": [],
   "source": [
    "# Optimal penalization weights alpha can be obtaine through generalized\n",
    "# cross-validation or k-fold cross-validation.\n",
    "# The alpha above are from the unit tests against the R mgcv package.\n",
    "print(gam_bs_2.select_penweight()[0])\n",
    "print(gam_bs_2.select_penweight_kfold()[0])\n"
   ]
  },
  {
   "cell_type": "markdown",
   "id": "3ba5f9fb",
   "metadata": {},
   "source": [
    "source\n",
    "- https://www.statsmodels.org/devel/gam.html"
   ]
  },
  {
   "cell_type": "code",
   "execution_count": null,
   "id": "a6b729fd",
   "metadata": {},
   "outputs": [],
   "source": []
  }
 ],
 "metadata": {
  "kernelspec": {
   "display_name": "Python 3",
   "language": "python",
   "name": "python3"
  },
  "language_info": {
   "codemirror_mode": {
    "name": "ipython",
    "version": 3
   },
   "file_extension": ".py",
   "mimetype": "text/x-python",
   "name": "python",
   "nbconvert_exporter": "python",
   "pygments_lexer": "ipython3",
   "version": "3.9.2"
  }
 },
 "nbformat": 4,
 "nbformat_minor": 5
}
